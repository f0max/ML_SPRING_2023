{
 "cells": [
  {
   "cell_type": "markdown",
   "id": "647d8059",
   "metadata": {},
   "source": [
    "## Предварительный анализ \n",
    "### Загрузим необходимые библиотеки "
   ]
  },
  {
   "cell_type": "code",
   "execution_count": 14,
   "id": "96283d7d",
   "metadata": {},
   "outputs": [],
   "source": [
    "from io import StringIO \n",
    "from IPython.display import Image\n",
    "import graphviz \n",
    "import pydotplus\n",
    "import numpy as np\n",
    "import pandas as pd\n",
    "from typing import Dict, Tuple\n",
    "from sklearn.datasets import load_iris, load_wine, load_boston\n",
    "from sklearn.tree import DecisionTreeClassifier, DecisionTreeRegressor, export_graphviz\n",
    "from sklearn.model_selection import train_test_split\n",
    "from sklearn.model_selection import GridSearchCV\n",
    "from sklearn.ensemble import RandomForestRegressor, GradientBoostingRegressor\n",
    "from sklearn.ensemble import RandomForestClassifier, GradientBoostingClassifier\n",
    "from sklearn.preprocessing import StandardScaler\n",
    "from sklearn.linear_model import LogisticRegression\n",
    "from sklearn.metrics import accuracy_score, precision_score, recall_score, f1_score\n",
    "from sklearn.metrics import mean_absolute_error\n",
    "from sklearn.metrics import median_absolute_error, r2_score\n",
    "from sklearn.svm import NuSVR\n",
    "from sklearn import tree\n",
    "import matplotlib.pyplot as plt\n",
    "%matplotlib inline \n",
    "from sklearn.datasets import make_classification\n",
    "from sklearn.tree import DecisionTreeClassifier\n",
    "from sklearn.ensemble import BaggingClassifier, RandomForestClassifier\n",
    "from sklearn.metrics import accuracy_score\n",
    "import matplotlib.pyplot as plt\n"
   ]
  },
  {
   "cell_type": "code",
   "execution_count": 15,
   "id": "372087f8",
   "metadata": {},
   "outputs": [],
   "source": [
    "df = pd.read_csv('gpu_specs_v6.csv')"
   ]
  },
  {
   "cell_type": "markdown",
   "id": "2902a389",
   "metadata": {},
   "source": [
    "### Изучим полученные данные"
   ]
  },
  {
   "cell_type": "code",
   "execution_count": 16,
   "id": "5d7b6116",
   "metadata": {
    "scrolled": true
   },
   "outputs": [
    {
     "name": "stdout",
     "output_type": "stream",
     "text": [
      "<class 'pandas.core.frame.DataFrame'>\n",
      "RangeIndex: 2889 entries, 0 to 2888\n",
      "Data columns (total 16 columns):\n",
      " #   Column         Non-Null Count  Dtype  \n",
      "---  ------         --------------  -----  \n",
      " 0   manufacturer   2889 non-null   object \n",
      " 1   productName    2889 non-null   object \n",
      " 2   releaseYear    2845 non-null   float64\n",
      " 3   memSize        2477 non-null   float64\n",
      " 4   memBusWidth    2477 non-null   float64\n",
      " 5   gpuClock       2889 non-null   int64  \n",
      " 6   memClock       2477 non-null   float64\n",
      " 7   unifiedShader  2065 non-null   float64\n",
      " 8   tmu            2889 non-null   int64  \n",
      " 9   rop            2889 non-null   int64  \n",
      " 10  pixelShader    824 non-null    float64\n",
      " 11  vertexShader   824 non-null    float64\n",
      " 12  igp            2889 non-null   object \n",
      " 13  bus            2889 non-null   object \n",
      " 14  memType        2889 non-null   object \n",
      " 15  gpuChip        2889 non-null   object \n",
      "dtypes: float64(7), int64(3), object(6)\n",
      "memory usage: 361.2+ KB\n"
     ]
    }
   ],
   "source": [
    "df.info()"
   ]
  },
  {
   "cell_type": "code",
   "execution_count": 22,
   "id": "c6366d83",
   "metadata": {},
   "outputs": [
    {
     "data": {
      "text/plain": [
       "manufacturer     0\n",
       "productName      0\n",
       "releaseYear      0\n",
       "memSize          0\n",
       "memBusWidth      0\n",
       "gpuClock         0\n",
       "memClock         0\n",
       "unifiedShader    0\n",
       "tmu              0\n",
       "rop              0\n",
       "pixelShader      0\n",
       "vertexShader     0\n",
       "igp              0\n",
       "bus              0\n",
       "memType          0\n",
       "gpuChip          0\n",
       "dtype: int64"
      ]
     },
     "execution_count": 22,
     "metadata": {},
     "output_type": "execute_result"
    }
   ],
   "source": [
    "columns_to_replace = ['memSize', 'memBusWidth', 'memClock', 'unifiedShader', 'pixelShader', 'vertexShader']\n",
    "for column in columns_to_replace:\n",
    "    df[column] = df[column].fillna(0)\n",
    "df.dropna(subset=['releaseYear'],inplace = True, axis = 0)\n",
    "df.isna().sum()"
   ]
  },
  {
   "cell_type": "code",
   "execution_count": 23,
   "id": "c18f328e",
   "metadata": {},
   "outputs": [],
   "source": [
    "X = df.drop(['igp', 'manufacturer','productName','bus','memType','gpuChip'],  axis = 1)\n",
    "Y = df['igp']\n",
    "X_train, X_test, y_train, y_test = train_test_split(X, Y, test_size=0.2, random_state=0)\n"
   ]
  },
  {
   "cell_type": "code",
   "execution_count": 24,
   "id": "8083ffc0",
   "metadata": {},
   "outputs": [
    {
     "name": "stdout",
     "output_type": "stream",
     "text": [
      "releaseYear      False\n",
      "memSize          False\n",
      "memBusWidth      False\n",
      "gpuClock         False\n",
      "memClock         False\n",
      "unifiedShader    False\n",
      "tmu              False\n",
      "rop              False\n",
      "pixelShader      False\n",
      "vertexShader     False\n",
      "dtype: bool\n"
     ]
    }
   ],
   "source": [
    "import numpy as np\n",
    "print(np.isnan(X).any())"
   ]
  },
  {
   "cell_type": "code",
   "execution_count": 25,
   "id": "348d6382",
   "metadata": {},
   "outputs": [
    {
     "name": "stdout",
     "output_type": "stream",
     "text": [
      "Accuracy: 1.0\n",
      "Accuracy: 1.0\n",
      "Accuracy: 1.0\n"
     ]
    }
   ],
   "source": [
    "#1. Модель бэггинга - случайный лес (Random Forest):\n",
    "\n",
    "from sklearn.ensemble import RandomForestClassifier\n",
    "\n",
    "# Создаем модель случайного леса с 100 деревьями\n",
    "rf_model = RandomForestClassifier(n_estimators=100)\n",
    "\n",
    "# Обучаем модель на тренировочных данных\n",
    "rf_model.fit(X_train, y_train)\n",
    "\n",
    "# Оцениваем качество модели на тестовых данных\n",
    "accuracy = rf_model.score(X_test, y_test)\n",
    "print(\"Accuracy:\", accuracy)\n",
    "\n",
    "#2. Модель бустинга - градиентный бустинг (Gradient Boosting):\n",
    "\n",
    "from sklearn.ensemble import GradientBoostingClassifier\n",
    "\n",
    "# Создаем модель градиентного бустинга с 100 деревьями и скоростью обучения 0.1\n",
    "gb_model = GradientBoostingClassifier(n_estimators=100, learning_rate=0.1)\n",
    "\n",
    "# Обучаем модель на тренировочных данных\n",
    "gb_model.fit(X_train, y_train)\n",
    "\n",
    "# Оцениваем качество модели на тестовых данных\n",
    "accuracy = gb_model.score(X_test, y_test)\n",
    "print(\"Accuracy:\", accuracy)\n",
    "\n",
    "\n",
    "#3. Модель стекинга - мета-классификатор на основе логистической регрессии:\n",
    "\n",
    "\n",
    "from sklearn.ensemble import RandomForestClassifier, GradientBoostingClassifier\n",
    "from sklearn.linear_model import LogisticRegression\n",
    "from sklearn.model_selection import cross_val_predict\n",
    "\n",
    "# Обучаем базовые модели на тренировочных данных\n",
    "rf_preds = cross_val_predict(rf_model, X_train, y_train, cv=5, method='predict_proba')\n",
    "gb_preds = cross_val_predict(gb_model, X_train, y_train, cv=5, method='predict_proba')\n",
    "\n",
    "# Создаем мета-классификатор на основе логистической регрессии\n",
    "meta_model = LogisticRegression()\n",
    "\n",
    "# Обучаем мета-классификатор на прогнозах базовых моделей\n",
    "meta_model.fit(np.hstack([rf_preds, gb_preds]), y_train)\n",
    "rf_model = RandomForestClassifier(n_estimators=100)\n",
    "rf_model.fit(X_train, y_train)\n",
    "rf_test_preds = rf_model.predict_proba(X_test)\n",
    "gb_model.fit(X_train, y_train)\n",
    "gb_test_preds = gb_model.predict_proba(X_test)\n",
    "\n",
    "# Оцениваем качество модели на тестовых данных\n",
    "\n",
    "meta_test_preds = meta_model.predict_proba(np.hstack([rf_test_preds, gb_test_preds]))\n",
    "accuracy = meta_model.score(np.hstack([rf_test_preds, gb_test_preds]), y_test)\n",
    "print(\"Accuracy:\", accuracy)\n"
   ]
  },
  {
   "cell_type": "code",
   "execution_count": 26,
   "id": "335bdd13",
   "metadata": {},
   "outputs": [
    {
     "name": "stdout",
     "output_type": "stream",
     "text": [
      "Accuracy of Bagging Classifier: 100.00%\n",
      "Accuracy of Random Forest Classifier: 100.00%\n"
     ]
    },
    {
     "data": {
      "image/png": "[encoded data removed]",
      "text/plain": [
       "<Figure size 640x480 with 1 Axes>"
      ]
     },
     "metadata": {},
     "output_type": "display_data"
    }
   ],
   "source": [
    "\n",
    "# Создаем три модели: решающее дерево, бэггинг и случайный лес\n",
    "\n",
    "bg = gb_model\n",
    "rf = rf_model\n",
    "\n",
    "# Обучаем модели на обучающей выборке\n",
    "\n",
    "bg.fit(X_train, y_train)\n",
    "rf.fit(X_train, y_train)\n",
    "\n",
    "# Получаем предсказания на тестовой выборке\n",
    "\n",
    "bg_pred = bg.predict(X_test)\n",
    "rf_pred = rf.predict(X_test)\n",
    "\n",
    "# Вычисляем точность предсказания каждой модели\n",
    "\n",
    "bg_acc = accuracy_score(y_test, bg_pred)\n",
    "rf_acc = accuracy_score(y_test, rf_pred)\n",
    "\n",
    "# Выводим точность каждой модели на экран\n",
    "\n",
    "print(\"Accuracy of Bagging Classifier: {:.2f}%\".format(bg_acc*100))\n",
    "print(\"Accuracy of Random Forest Classifier: {:.2f}%\".format(rf_acc*100))\n",
    "\n",
    "# Создаем график точности предсказания каждой модели\n",
    "models = [ 'Bagging', 'Random Forest']\n",
    "accuracies = [ bg_acc, rf_acc]\n",
    "plt.bar(models, accuracies)\n",
    "plt.ylabel('Accuracy')\n",
    "plt.title('Classifier Accuracy Comparison')\n",
    "plt.show()\n"
   ]
  },
  {
   "cell_type": "code",
   "execution_count": null,
   "id": "b806309e",
   "metadata": {},
   "outputs": [],
   "source": []
  }
 ],
 "metadata": {
  "kernelspec": {
   "display_name": "Python 3 (ipykernel)",
   "language": "python",
   "name": "python3"
  },
  "language_info": {
   "codemirror_mode": {
    "name": "ipython",
    "version": 3
   },
   "file_extension": ".py",
   "mimetype": "text/x-python",
   "name": "python",
   "nbconvert_exporter": "python",
   "pygments_lexer": "ipython3",
   "version": "3.9.0"
  }
 },
 "nbformat": 4,
 "nbformat_minor": 5
}
